{
 "cells": [
  {
   "cell_type": "markdown",
   "id": "faeb2361-eda6-4922-8fa0-68038ceb4ac3",
   "metadata": {
    "tags": []
   },
   "source": [
    "# Gerardo Daniel Vega Rosales"
   ]
  },
  {
   "cell_type": "markdown",
   "id": "e5c175dd-7127-42ce-98ec-ac55682f6634",
   "metadata": {
    "jp-MarkdownHeadingCollapsed": true,
    "tags": []
   },
   "source": [
    "## Parte 1: Numpy"
   ]
  },
  {
   "cell_type": "code",
   "execution_count": 1,
   "id": "d2d1e981-90d1-4696-83fa-9f04798504c8",
   "metadata": {
    "tags": []
   },
   "outputs": [],
   "source": [
    "import numpy as np"
   ]
  },
  {
   "cell_type": "markdown",
   "id": "2de5ea1c-0310-49f8-bd8c-87f7b2df4426",
   "metadata": {},
   "source": [
    "1) ¿Cuál es el tamaño en bytes de un array de 1000 \n",
    "elementos de tipo booleano?"
   ]
  },
  {
   "cell_type": "code",
   "execution_count": 4,
   "id": "665351f3-5944-4e21-aad0-e45ee393eb50",
   "metadata": {
    "tags": []
   },
   "outputs": [
    {
     "name": "stdout",
     "output_type": "stream",
     "text": [
      "Tamaño en bytes de un array de booleanos: 1000 bytes\n"
     ]
    }
   ],
   "source": [
    "array = np.full(1000, True, dtype=bool)\n",
    "# Get the size of the array in bytes\n",
    "size_in_bytes = array.nbytes\n",
    "print(\"Tamaño en bytes de un array de booleanos:\", size_in_bytes, \"bytes\")"
   ]
  },
  {
   "cell_type": "markdown",
   "id": "fe4873c6-af77-4092-ba86-9f00eef68777",
   "metadata": {},
   "source": [
    "2) Cree un array cuyos elementos sean los enteros pares en [1,100] y en orden decreciente. Muestre los 10 últimos por pantalla."
   ]
  },
  {
   "cell_type": "code",
   "execution_count": 8,
   "id": "39aa217e-29bf-4fc5-b6ac-f84e6380e3e4",
   "metadata": {
    "tags": []
   },
   "outputs": [
    {
     "name": "stdout",
     "output_type": "stream",
     "text": [
      "Ultimos 10 valores ordenados en orden decreciente:\n",
      "[20 18 16 14 12 10  8  6  4  2]\n"
     ]
    }
   ],
   "source": [
    "numbers = np.arange(1, 101)\n",
    "# Filter out the pairs numbers\n",
    "pair_numbers = numbers[numbers % 2 == 0]\n",
    "# Sort the pairs numbers array in descending order\n",
    "pair_numbers_sorted = np.sort(pair_numbers)[::-1]\n",
    "print(\"Ultimos 10 valores ordenados en orden decreciente:\")\n",
    "print(pair_numbers_sorted[-10:])"
   ]
  },
  {
   "cell_type": "markdown",
   "id": "da518a78-0725-4f68-92de-df3a4c8c373f",
   "metadata": {},
   "source": [
    "3) Dado el array <br>\n",
    "        2 4 5 6 <br>\n",
    "        0 3 7 4 <br>\n",
    "        8 8 5 2 <br>\n",
    "        1 5 6 1 <br>\n",
    "        \n",
    "Seleccione con una instrucción el subarray de elementos <br>\n",
    "        0 3 7 4 <br>\n",
    "        \n",
    "Después, seleccione el subarray de elementos <br>\n",
    "        2 5 <br>\n",
    "        8 5 <br>"
   ]
  },
  {
   "cell_type": "code",
   "execution_count": 16,
   "id": "ea6fac41-c1d1-4688-96dd-3f6597e9dc7a",
   "metadata": {
    "tags": []
   },
   "outputs": [
    {
     "name": "stdout",
     "output_type": "stream",
     "text": [
      "[0, 3, 7, 4]\n",
      "\n",
      "[2, 5]\n",
      "[8, 5]\n"
     ]
    }
   ],
   "source": [
    "elements = [[2, 4, 5, 6],[0, 3, 7, 4],[8, 8, 5, 2],[1, 5, 6, 1]]\n",
    "print(elements[1])\n",
    "print()\n",
    "#list of arrays and retrieves elements at even positions using slicing with a step of 2\n",
    "pairs_position_elements = [arr[::2] for arr in [elements[0],elements[2]]]\n",
    "for arr in pairs_position_elements:\n",
    "    print(arr)"
   ]
  },
  {
   "cell_type": "markdown",
   "id": "abb290bc-169c-4a60-afaa-ba54a79652fc",
   "metadata": {},
   "source": [
    "4) Dados los arrays a = [1, 4, 2, 7] y b = [1, 3, 2, 9], obtenga la media aritmética de la diferencia (a-b)."
   ]
  },
  {
   "cell_type": "code",
   "execution_count": 18,
   "id": "64caf9f6-7683-4943-8a7b-ff9103fb3290",
   "metadata": {
    "tags": []
   },
   "outputs": [
    {
     "name": "stdout",
     "output_type": "stream",
     "text": [
      "Diferencia simetrica entre a y b: [3 4 7 9]\n"
     ]
    }
   ],
   "source": [
    "a = [1, 4, 2, 7]\n",
    "b = [1, 3, 2, 9]\n",
    "\n",
    "symmetric_difference = np.setxor1d(a, b) #Return the sorted, unique values that are in only one (not both) of the input arrays.\n",
    "\n",
    "print(\"Diferencia simetrica entre a y b:\", symmetric_difference)"
   ]
  },
  {
   "cell_type": "markdown",
   "id": "2600d3ec-6cc2-496c-9841-c8daaba465b6",
   "metadata": {},
   "source": [
    "5) Tengo valores de cordenadas (x, y) en las columnas del array <br>\n",
    "    1.33 4.5 <br>\n",
    "    30.0 10.7 <br>\n",
    "    70.2 0.5 <br>\n",
    "Agregue a este array las coordenadas (37.1, -3.6).  <br>\n",
    "Muestre en pantalla las dimensiones del nuevo array. <br>"
   ]
  },
  {
   "cell_type": "code",
   "execution_count": 22,
   "id": "284693aa-05f9-402a-99c8-d7d4573e8f83",
   "metadata": {
    "tags": []
   },
   "outputs": [
    {
     "name": "stdout",
     "output_type": "stream",
     "text": [
      "Dimensiones del nuevo array: (4, 2)\n"
     ]
    }
   ],
   "source": [
    "x_y_points = [[1.33,4.5],[30.0,10.7],[70.2,0.5]]\n",
    "#adding the new values\n",
    "x_y_points.append([37.1,-3.6])\n",
    "#Convert the list to a numpy to array to get the dimensiones\n",
    "array_points = np.array(x_y_points)\n",
    "dimensions = array_points.shape\n",
    "\n",
    "print(\"Dimensiones del nuevo array:\", dimensions)"
   ]
  },
  {
   "cell_type": "markdown",
   "id": "1ed0d733-8f49-4f07-a60d-3a2330e86e2d",
   "metadata": {},
   "source": [
    "6) Copie el array del ejercicio anterior. Traspóngalo (Agregue ahora dos nuevos pares de coordenadas: (10.8, 3.0) y (35.8, 12.0)."
   ]
  },
  {
   "cell_type": "code",
   "execution_count": 26,
   "id": "621e3ef5-23a0-4279-8e0d-d717ed09e48a",
   "metadata": {
    "tags": []
   },
   "outputs": [
    {
     "name": "stdout",
     "output_type": "stream",
     "text": [
      "Array Final:\n",
      "[[1.33, 30.0, 70.2], [4.5, 10.7, 0.5], [10.8, 3.0], [35.8, 12]]\n"
     ]
    }
   ],
   "source": [
    "x_y_points = [[1.33,4.5],[30.0,10.7],[70.2,0.5]]\n",
    "\n",
    "# Convert the list of lists to a NumPy array\n",
    "array_points = np.array(x_y_points)\n",
    "\n",
    "# Transpose the array\n",
    "transposed_array = np.transpose(array_points)\n",
    "\n",
    "# Convert the transposed array back to a list of lists\n",
    "transposed_list = transposed_array.tolist()\n",
    "\n",
    "#adding the new values\n",
    "transposed_list.append([10.8, 3.0])\n",
    "transposed_list.append([35.8, 12])\n",
    "\n",
    "print(\"Array Final:\")\n",
    "print(transposed_list)"
   ]
  },
  {
   "cell_type": "markdown",
   "id": "1e3d8c59-a031-4ce0-a2a5-1cbc5c11e845",
   "metadata": {
    "tags": []
   },
   "source": [
    "## Parte 2: Exploración y Minería de Datos"
   ]
  },
  {
   "cell_type": "code",
   "execution_count": 8,
   "id": "8e3ad95e-a581-4c94-9bce-274ad1041400",
   "metadata": {
    "tags": []
   },
   "outputs": [],
   "source": [
    "import pandas as pd\n",
    "import matplotlib.pyplot as plt"
   ]
  },
  {
   "cell_type": "code",
   "execution_count": 144,
   "id": "018412a7-15cc-482a-8374-c80a439044e2",
   "metadata": {
    "tags": []
   },
   "outputs": [
    {
     "data": {
      "text/html": [
       "<div>\n",
       "<style scoped>\n",
       "    .dataframe tbody tr th:only-of-type {\n",
       "        vertical-align: middle;\n",
       "    }\n",
       "\n",
       "    .dataframe tbody tr th {\n",
       "        vertical-align: top;\n",
       "    }\n",
       "\n",
       "    .dataframe thead th {\n",
       "        text-align: right;\n",
       "    }\n",
       "</style>\n",
       "<table border=\"1\" class=\"dataframe\">\n",
       "  <thead>\n",
       "    <tr style=\"text-align: right;\">\n",
       "      <th></th>\n",
       "      <th>FID</th>\n",
       "      <th>OBJECTID</th>\n",
       "      <th>Texto</th>\n",
       "      <th>Poblacion</th>\n",
       "      <th>CodMun</th>\n",
       "      <th>Municipio</th>\n",
       "      <th>CodProvin</th>\n",
       "      <th>Provincia</th>\n",
       "      <th>X</th>\n",
       "      <th>Y</th>\n",
       "    </tr>\n",
       "  </thead>\n",
       "  <tbody>\n",
       "    <tr>\n",
       "      <th>0</th>\n",
       "      <td>0</td>\n",
       "      <td>1</td>\n",
       "      <td>Agüimes</td>\n",
       "      <td>29431.0</td>\n",
       "      <td>35002</td>\n",
       "      <td>Agüimes</td>\n",
       "      <td>35</td>\n",
       "      <td>Las Palmas</td>\n",
       "      <td>-15.446012</td>\n",
       "      <td>27.900542</td>\n",
       "    </tr>\n",
       "    <tr>\n",
       "      <th>1</th>\n",
       "      <td>1</td>\n",
       "      <td>2</td>\n",
       "      <td>Antigua</td>\n",
       "      <td>10458.0</td>\n",
       "      <td>35003</td>\n",
       "      <td>Antigua</td>\n",
       "      <td>35</td>\n",
       "      <td>Las Palmas</td>\n",
       "      <td>-14.013301</td>\n",
       "      <td>28.418966</td>\n",
       "    </tr>\n",
       "    <tr>\n",
       "      <th>2</th>\n",
       "      <td>2</td>\n",
       "      <td>3</td>\n",
       "      <td>Arrecife</td>\n",
       "      <td>58156.0</td>\n",
       "      <td>35004</td>\n",
       "      <td>Arrecife</td>\n",
       "      <td>35</td>\n",
       "      <td>Las Palmas</td>\n",
       "      <td>-13.551451</td>\n",
       "      <td>28.960649</td>\n",
       "    </tr>\n",
       "    <tr>\n",
       "      <th>3</th>\n",
       "      <td>3</td>\n",
       "      <td>4</td>\n",
       "      <td>Arucas</td>\n",
       "      <td>36745.0</td>\n",
       "      <td>35006</td>\n",
       "      <td>Arucas</td>\n",
       "      <td>35</td>\n",
       "      <td>Las Palmas</td>\n",
       "      <td>-15.521512</td>\n",
       "      <td>28.117496</td>\n",
       "    </tr>\n",
       "    <tr>\n",
       "      <th>4</th>\n",
       "      <td>4</td>\n",
       "      <td>5</td>\n",
       "      <td>Gáldar</td>\n",
       "      <td>24473.0</td>\n",
       "      <td>35009</td>\n",
       "      <td>Gáldar</td>\n",
       "      <td>35</td>\n",
       "      <td>Las Palmas</td>\n",
       "      <td>-15.654111</td>\n",
       "      <td>28.143873</td>\n",
       "    </tr>\n",
       "  </tbody>\n",
       "</table>\n",
       "</div>"
      ],
      "text/plain": [
       "   FID  OBJECTID     Texto  Poblacion  CodMun Municipio  CodProvin  \\\n",
       "0    0         1   Agüimes    29431.0   35002   Agüimes         35   \n",
       "1    1         2   Antigua    10458.0   35003   Antigua         35   \n",
       "2    2         3  Arrecife    58156.0   35004  Arrecife         35   \n",
       "3    3         4    Arucas    36745.0   35006    Arucas         35   \n",
       "4    4         5    Gáldar    24473.0   35009    Gáldar         35   \n",
       "\n",
       "    Provincia          X          Y  \n",
       "0  Las Palmas -15.446012  27.900542  \n",
       "1  Las Palmas -14.013301  28.418966  \n",
       "2  Las Palmas -13.551451  28.960649  \n",
       "3  Las Palmas -15.521512  28.117496  \n",
       "4  Las Palmas -15.654111  28.143873  "
      ]
     },
     "execution_count": 144,
     "metadata": {},
     "output_type": "execute_result"
    }
   ],
   "source": [
    "dataset = pd.read_csv(\"NucleosPoblacion.csv\")\n",
    "dataset.head()"
   ]
  },
  {
   "cell_type": "markdown",
   "id": "32cfb30f-906c-423f-8ea5-b58a81cc56c3",
   "metadata": {},
   "source": [
    "1) ¿Cuántos Municipios tienen más de 100000 habitantes?"
   ]
  },
  {
   "cell_type": "code",
   "execution_count": 7,
   "id": "6e32aa2f-4ea1-4171-8170-951e869ed26e",
   "metadata": {
    "tags": []
   },
   "outputs": [
    {
     "name": "stdout",
     "output_type": "stream",
     "text": [
      "La cantidad de municipios que tienen mas de 100000 habitantes son: 62\n"
     ]
    }
   ],
   "source": [
    "# Filter the DataFrame to rows where Poblacion is greater than 100,000\n",
    "filtered_data = dataset[dataset['Poblacion'] > 100000]\n",
    "# Select the Municipio column from the filtered DataFrame\n",
    "municipio = filtered_data['Municipio']\n",
    "print(f\"La cantidad de municipios que tienen mas de 100000 habitantes son: {len(municipio)}\")"
   ]
  },
  {
   "cell_type": "markdown",
   "id": "29e724d6-98c1-4e75-816b-f9a218ce39eb",
   "metadata": {},
   "source": [
    "2) Realice una gráfica de barras sobre la población de cada ciudad, ordenela de menor a mayo y responda: <br>\n",
    "a. ¿Cuál es la segunda ciudad más poblada? <br>\n",
    "b. ¿Qué posición ocupa Granada en el ranking de las ciudades más pobladas? <br>"
   ]
  },
  {
   "cell_type": "code",
   "execution_count": 28,
   "id": "7a48426f-266c-4fcf-807f-39e3c80df0f5",
   "metadata": {
    "tags": []
   },
   "outputs": [
    {
     "data": {
      "image/png": "[encoded data removed]",
      "text/plain": [
       "<Figure size 1000x600 with 1 Axes>"
      ]
     },
     "metadata": {},
     "output_type": "display_data"
    },
    {
     "name": "stdout",
     "output_type": "stream",
     "text": [
      "La segunda ciudad mas poblada es: Barcelona con un total de poblacion de: 4934795.0\n",
      "Granada esta en la posicion: 17\n"
     ]
    }
   ],
   "source": [
    "# Group the data by \"Province\" and calculate the sum of \"Poblacion\" for each province and order by\n",
    "grouped_data = dataset.groupby('Provincia')['Poblacion'].sum().sort_values()\n",
    "\n",
    "# Create a bar graph\n",
    "plt.figure(figsize=(10, 6))\n",
    "grouped_data.plot(kind='bar')\n",
    "plt.title('Poblacion por provincia')\n",
    "plt.xlabel('Provincia')\n",
    "plt.ylabel('Total Poblacion')\n",
    "plt.xticks(rotation=45, ha='right')  \n",
    "plt.tight_layout()\n",
    "plt.show()\n",
    "\n",
    "# Find the second province more populated\n",
    "second_province_population = grouped_data.nlargest(2).iloc[-1]\n",
    "second_province = grouped_data.nlargest(2).index[-1]\n",
    "print(\"La segunda ciudad mas poblada es:\", second_province, \"con un total de poblacion de:\", second_province_population)\n",
    "\n",
    "# Determine the position of the province \"Granada\"\n",
    "#We need to subtract the longitude because we start counting from the most populated province.\n",
    "granada_position = len(grouped_data) - grouped_data.index.get_loc(\"Granada\")\n",
    "print(\"Granada esta en la posicion:\", granada_position)\n",
    "\n"
   ]
  },
  {
   "cell_type": "markdown",
   "id": "d9f0e6b2-10a1-4861-8871-d373f0c024be",
   "metadata": {},
   "source": [
    "3) ¿Cuántos municipios de Extremadura tienen más de 5000 habitantes?."
   ]
  },
  {
   "cell_type": "code",
   "execution_count": 37,
   "id": "ac49fbb4-cd99-4eab-bdba-4e0880110ad1",
   "metadata": {
    "tags": []
   },
   "outputs": [
    {
     "name": "stdout",
     "output_type": "stream",
     "text": [
      "La cantidad de municipios de Extremadura con mas de 5000 habitantes son: 14\n"
     ]
    }
   ],
   "source": [
    "# Filter the DataFrame to rows where Poblacion is greater than 100,000\n",
    "filtered_data = dataset[(dataset['Provincia'] == 'Badajoz') | (dataset['Provincia'] == 'Cáceres')  & (dataset['Poblacion'] > 5000)]\n",
    "# Select the Municipio column from the filtered DataFrame\n",
    "municipio = filtered_data['Municipio']\n",
    "print(f\"La cantidad de municipios de Extremadura con mas de 5000 habitantes son: {len(municipio)}\")"
   ]
  },
  {
   "cell_type": "markdown",
   "id": "5e73b97b-7be8-46a5-bed8-d81535d5b3a9",
   "metadata": {},
   "source": [
    "4) ¿Cuál es el municipio situado más al Norte? (Usar el valor de la coordenada \"Y\" que representa la latitud en grados). <br>Proporcione también la provincia a la que pertenece y su población"
   ]
  },
  {
   "cell_type": "code",
   "execution_count": 41,
   "id": "34945fdd-2ae8-4d4f-b56b-7aa674f4e6a6",
   "metadata": {
    "tags": []
   },
   "outputs": [
    {
     "name": "stdout",
     "output_type": "stream",
     "text": [
      "El municipio situado mas al norte es: Viveiro\n",
      "Pertenece a la provincia: Lugo\n",
      "Tiene un total de poblacion de: 16211.0\n"
     ]
    }
   ],
   "source": [
    "# Find the index of the row where the latitude (X) is the greatest\n",
    "max_latitude_index = dataset['Y'].idxmax()\n",
    "\n",
    "#Select the data based on the index for greatest latitude\n",
    "municipio = dataset.loc[max_latitude_index, 'Municipio']\n",
    "provincia = dataset.loc[max_latitude_index, 'Provincia']\n",
    "poblacion = dataset.loc[max_latitude_index, 'Poblacion']\n",
    "\n",
    "print(\"El municipio situado mas al norte es:\", municipio)\n",
    "print(\"Pertenece a la provincia:\", provincia)\n",
    "print(\"Tiene un total de poblacion de:\", poblacion)"
   ]
  },
  {
   "cell_type": "markdown",
   "id": "9d45257a-6348-4a49-bd7a-8f1368c985e3",
   "metadata": {},
   "source": [
    "5) Obtenga la media, mediana, desviación estándar, valor máximo y valor mínimo de la población de los municipios de la provincia de Granada."
   ]
  },
  {
   "cell_type": "code",
   "execution_count": 47,
   "id": "2dc94e3f-d3b1-4288-a415-9048c10e4beb",
   "metadata": {
    "tags": []
   },
   "outputs": [
    {
     "name": "stdout",
     "output_type": "stream",
     "text": [
      "Media: 30217.85\n",
      "Mediana: 17526.0\n",
      "Desviacion Estandar: 50355.49171459277\n",
      "Valor Maximo: 239154.0\n",
      "Valor Minimo: 10386.0\n"
     ]
    }
   ],
   "source": [
    "# Filter rows where Province is \"Granada\"\n",
    "province_date = dataset[dataset['Provincia'] == 'Granada']\n",
    "\n",
    "print(\"Media:\", province_date['Poblacion'].mean())\n",
    "print(\"Mediana:\", province_date['Poblacion'].median())\n",
    "print(\"Desviacion Estandar:\", province_date['Poblacion'].std())\n",
    "print(\"Valor Maximo:\",province_date['Poblacion'].max())\n",
    "print(\"Valor Minimo:\",  province_date['Poblacion'].min())\n"
   ]
  },
  {
   "cell_type": "markdown",
   "id": "d00af3bb-62bd-47a3-9cfb-02da0b1fff72",
   "metadata": {},
   "source": [
    "6) Realice un histograma con la población de los Municipios para cada una de las provincias."
   ]
  },
  {
   "cell_type": "code",
   "execution_count": null,
   "id": "1c4a46b0-b523-41b6-ae84-dc7a58a3358f",
   "metadata": {
    "tags": []
   },
   "outputs": [],
   "source": [
    "# Get the unique province names\n",
    "uniqueProvincia = sorted(dataset['Provincia'].unique())\n",
    "\n",
    "for provincia in uniqueProvincia:\n",
    "     # Filter data for the current province\n",
    "    province_data = dataset[dataset['Provincia'] == provincia]    \n",
    "    # Create histogram for the population of municipalities in the current province\n",
    "    plt.hist(province_data['Poblacion'], bins=20, alpha=0.5)\n",
    "    # Add labels and title\n",
    "    plt.title(f\"Distribucion por poblacion: {provincia}\")\n",
    "    plt.xlabel('Poblacion')\n",
    "    plt.ylabel('Frecuencia')\n",
    "    plt.show()"
   ]
  },
  {
   "cell_type": "markdown",
   "id": "4b2f51da-f95d-4cb3-b204-8024ca94be16",
   "metadata": {},
   "source": [
    "7) Seleccione al azar cincuenta municipios diferentes de entre los diponibles en el archivo. Asegúrese de que no se repitan. <br> ¿Luego calcule el promedio de la población y la desviación estándar de esto 50 municipios?."
   ]
  },
  {
   "cell_type": "code",
   "execution_count": 80,
   "id": "1b97117a-14fc-4513-b1c5-2445f84a8a01",
   "metadata": {
    "tags": []
   },
   "outputs": [
    {
     "name": "stdout",
     "output_type": "stream",
     "text": [
      "Media: 45793.15094339623\n",
      "Desviacion Estandar: 111204.51982208903\n"
     ]
    }
   ],
   "source": [
    "import random\n",
    "\n",
    "def getRandomValue(indexUse, municipios):\n",
    "    element = None\n",
    "    while(True):\n",
    "        munIndex =random.randint(0,len(municipios)) -1\n",
    "        muni = list(municipios)[munIndex]\n",
    "        if(muni in indexUse):\n",
    "            continue\n",
    "        else:\n",
    "            indexUse.add(muni)\n",
    "            element = muni\n",
    "            break\n",
    "    return element\n",
    "\n",
    "uniqueMunicipies = sorted(dataset['Municipio'].unique())\n",
    "municipios = set({})\n",
    "indexUse = set({})\n",
    "for i in range(50):\n",
    "    municipios.add(getRandomValue(indexUse, uniqueMunicipies))\n",
    "    \n",
    "filtered_data = dataset[dataset['Municipio'].isin(municipios)]\n",
    "print(\"Media:\", filtered_data['Poblacion'].mean())\n",
    "print(\"Desviacion Estandar:\", filtered_data['Poblacion'].std())"
   ]
  },
  {
   "cell_type": "markdown",
   "id": "10646083-a129-44be-807d-4068b106e3e2",
   "metadata": {},
   "source": [
    "8) Determine los nombres de los Municipios más cercano y más lejano a Madrid. Para ello debe calcular la distancia en todos ellos y Madrid. <br> No considere a Madrid en el análisis ya que la distancia sería cero"
   ]
  },
  {
   "cell_type": "code",
   "execution_count": 162,
   "id": "2c63d770-b126-4fe5-982c-4bedeac9a62b",
   "metadata": {
    "tags": []
   },
   "outputs": [
    {
     "name": "stdout",
     "output_type": "stream",
     "text": [
      "Municipalidad mas cercana a Madrid: Pozuelo de Alarcón distancia: 6.93 Km\n",
      "Municipalidad mas lejana a Madrid: Aranjuez distancia: 43.41 Km\n"
     ]
    },
    {
     "name": "stderr",
     "output_type": "stream",
     "text": [
      "C:\\Users\\gerda\\AppData\\Local\\Temp\\ipykernel_7300\\2658813926.py:13: SettingWithCopyWarning: \n",
      "A value is trying to be set on a copy of a slice from a DataFrame.\n",
      "Try using .loc[row_indexer,col_indexer] = value instead\n",
      "\n",
      "See the caveats in the documentation: https://pandas.pydata.org/pandas-docs/stable/user_guide/indexing.html#returning-a-view-versus-a-copy\n",
      "  madrid_data['Distancia_Madrid'] = madrid_data.apply(calculate_distance, axis=1)\n"
     ]
    }
   ],
   "source": [
    "from geopy.distance import geodesic\n",
    "madrid_data = dataset[(dataset['Provincia'] == 'Madrid') & (dataset['Municipio'] == 'Madrid')]\n",
    "#Get the base information for the initial point of Madrid\n",
    "madrid_coordinates = (madrid_data[\"Y\"].tolist()[0],madrid_data[\"X\"].tolist()[0])\n",
    "\n",
    "# Function to calculate distance between two points\n",
    "def calculate_distance(row):\n",
    "    municipality_coordinates = (row['Y'], row['X'])  # Coordinates of the municipality\n",
    "    return geodesic(madrid_coordinates, municipality_coordinates).kilometers\n",
    "\n",
    "#Remove the Municipio of Madrid for the set\n",
    "madrid_data = dataset[(dataset['Provincia'] == 'Madrid') & (dataset['Municipio'] != 'Madrid')]\n",
    "madrid_data['Distancia_Madrid'] = madrid_data.apply(calculate_distance, axis=1)\n",
    "\n",
    "# Find the closest and farthest municipalities from Madrid\n",
    "minucipalidad_cercana_idx =madrid_data['Distancia_Madrid'].idxmin()\n",
    "municipalidad_lejana_idx = madrid_data['Distancia_Madrid'].idxmax()\n",
    "\n",
    "municipio = madrid_data.loc[minucipalidad_cercana_idx, 'Municipio']\n",
    "distancia = madrid_data.loc[minucipalidad_cercana_idx, 'Distancia_Madrid']\n",
    "print(\"Municipalidad mas cercana a Madrid:\",municipio, \"distancia:\", round(float(distancia),2),\"Km\")\n",
    "\n",
    "municipio = madrid_data.loc[municipalidad_lejana_idx, 'Municipio']\n",
    "distancia = madrid_data.loc[municipalidad_lejana_idx, 'Distancia_Madrid']\n",
    "print(\"Municipalidad mas lejana a Madrid:\",municipio, \"distancia:\", round(float(distancia),2),\"Km\")"
   ]
  },
  {
   "cell_type": "code",
   "execution_count": null,
   "id": "0e226f8c-61f1-4a17-b231-91ace0a85763",
   "metadata": {
    "tags": []
   },
   "outputs": [
    {
     "name": "stdout",
     "output_type": "stream",
     "text": [
      "Start Script\n",
      "We can perform the git command\n",
      "[main 1b14993] part 1\n",
      " 2 files changed, 92 insertions(+), 8 deletions(-)\n",
      "Pushing data to remote server!!!\n"
     ]
    }
   ],
   "source": [
    "%%bash\n",
    "echo \"Start Script\"\n",
    "if [ -d \".git\" ]\n",
    "then\n",
    "echo \"We can perform the git command\"\n",
    "git add .\n",
    "git commit -m \"part 2\"\n",
    "echo \"Pushing data to remote server!!!\"\n",
    "git push master\n",
    "else\n",
    "echo \"Please add the origin after perform git commands\"\n",
    "fi\n",
    "echo \"Finish Script\""
   ]
  },
  {
   "cell_type": "code",
   "execution_count": null,
   "id": "13f5ff15-b8a6-4429-8d1f-291ebb7ca815",
   "metadata": {},
   "outputs": [],
   "source": []
  }
 ],
 "metadata": {
  "kernelspec": {
   "display_name": "Python 3 (ipykernel)",
   "language": "python",
   "name": "python3"
  },
  "language_info": {
   "codemirror_mode": {
    "name": "ipython",
    "version": 3
   },
   "file_extension": ".py",
   "mimetype": "text/x-python",
   "name": "python",
   "nbconvert_exporter": "python",
   "pygments_lexer": "ipython3",
   "version": "3.11.5"
  }
 },
 "nbformat": 4,
 "nbformat_minor": 5
}
