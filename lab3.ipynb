{
 "cells": [
  {
   "cell_type": "markdown",
   "id": "faeb2361-eda6-4922-8fa0-68038ceb4ac3",
   "metadata": {
    "tags": []
   },
   "source": [
    "# Gerardo Daniel Vega Rosales"
   ]
  },
  {
   "cell_type": "markdown",
   "id": "e5c175dd-7127-42ce-98ec-ac55682f6634",
   "metadata": {},
   "source": [
    "## Parte 1: Numpy"
   ]
  },
  {
   "cell_type": "code",
   "execution_count": 1,
   "id": "d2d1e981-90d1-4696-83fa-9f04798504c8",
   "metadata": {
    "tags": []
   },
   "outputs": [],
   "source": [
    "import numpy as np"
   ]
  },
  {
   "cell_type": "markdown",
   "id": "2de5ea1c-0310-49f8-bd8c-87f7b2df4426",
   "metadata": {},
   "source": [
    "1) ¿Cuál es el tamaño en bytes de un array de 1000 \n",
    "elementos de tipo booleano?"
   ]
  },
  {
   "cell_type": "code",
   "execution_count": 4,
   "id": "665351f3-5944-4e21-aad0-e45ee393eb50",
   "metadata": {
    "tags": []
   },
   "outputs": [
    {
     "name": "stdout",
     "output_type": "stream",
     "text": [
      "Tamaño en bytes de un array de booleanos: 1000 bytes\n"
     ]
    }
   ],
   "source": [
    "array = np.full(1000, True, dtype=bool)\n",
    "# Get the size of the array in bytes\n",
    "size_in_bytes = array.nbytes\n",
    "print(\"Tamaño en bytes de un array de booleanos:\", size_in_bytes, \"bytes\")"
   ]
  },
  {
   "cell_type": "markdown",
   "id": "fe4873c6-af77-4092-ba86-9f00eef68777",
   "metadata": {},
   "source": [
    "2) Cree un array cuyos elementos sean los enteros pares en [1,100] y en orden decreciente. Muestre los 10 últimos por pantalla."
   ]
  },
  {
   "cell_type": "code",
   "execution_count": 8,
   "id": "39aa217e-29bf-4fc5-b6ac-f84e6380e3e4",
   "metadata": {
    "tags": []
   },
   "outputs": [
    {
     "name": "stdout",
     "output_type": "stream",
     "text": [
      "Ultimos 10 valores ordenados en orden decreciente:\n",
      "[20 18 16 14 12 10  8  6  4  2]\n"
     ]
    }
   ],
   "source": [
    "numbers = np.arange(1, 101)\n",
    "# Filter out the pairs numbers\n",
    "pair_numbers = numbers[numbers % 2 == 0]\n",
    "# Sort the pairs numbers array in descending order\n",
    "pair_numbers_sorted = np.sort(pair_numbers)[::-1]\n",
    "print(\"Ultimos 10 valores ordenados en orden decreciente:\")\n",
    "print(pair_numbers_sorted[-10:])"
   ]
  },
  {
   "cell_type": "markdown",
   "id": "da518a78-0725-4f68-92de-df3a4c8c373f",
   "metadata": {},
   "source": [
    "3) Dado el array <br>\n",
    "        2 4 5 6 <br>\n",
    "        0 3 7 4 <br>\n",
    "        8 8 5 2 <br>\n",
    "        1 5 6 1 <br>\n",
    "        \n",
    "Seleccione con una instrucción el subarray de elementos <br>\n",
    "        0 3 7 4 <br>\n",
    "        \n",
    "Después, seleccione el subarray de elementos <br>\n",
    "        2 5 <br>\n",
    "        8 5 <br>"
   ]
  },
  {
   "cell_type": "code",
   "execution_count": 16,
   "id": "ea6fac41-c1d1-4688-96dd-3f6597e9dc7a",
   "metadata": {
    "tags": []
   },
   "outputs": [
    {
     "name": "stdout",
     "output_type": "stream",
     "text": [
      "[0, 3, 7, 4]\n",
      "\n",
      "[2, 5]\n",
      "[8, 5]\n"
     ]
    }
   ],
   "source": [
    "elements = [[2, 4, 5, 6],[0, 3, 7, 4],[8, 8, 5, 2],[1, 5, 6, 1]]\n",
    "print(elements[1])\n",
    "print()\n",
    "#list of arrays and retrieves elements at even positions using slicing with a step of 2\n",
    "pairs_position_elements = [arr[::2] for arr in [elements[0],elements[2]]]\n",
    "for arr in pairs_position_elements:\n",
    "    print(arr)"
   ]
  },
  {
   "cell_type": "markdown",
   "id": "abb290bc-169c-4a60-afaa-ba54a79652fc",
   "metadata": {},
   "source": [
    "4) Dados los arrays a = [1, 4, 2, 7] y b = [1, 3, 2, 9], obtenga la media aritmética de la diferencia (a-b)."
   ]
  },
  {
   "cell_type": "code",
   "execution_count": 18,
   "id": "64caf9f6-7683-4943-8a7b-ff9103fb3290",
   "metadata": {
    "tags": []
   },
   "outputs": [
    {
     "name": "stdout",
     "output_type": "stream",
     "text": [
      "Diferencia simetrica entre a y b: [3 4 7 9]\n"
     ]
    }
   ],
   "source": [
    "a = [1, 4, 2, 7]\n",
    "b = [1, 3, 2, 9]\n",
    "\n",
    "symmetric_difference = np.setxor1d(a, b) #Return the sorted, unique values that are in only one (not both) of the input arrays.\n",
    "\n",
    "print(\"Diferencia simetrica entre a y b:\", symmetric_difference)"
   ]
  },
  {
   "cell_type": "markdown",
   "id": "2600d3ec-6cc2-496c-9841-c8daaba465b6",
   "metadata": {},
   "source": [
    "5) Tengo valores de cordenadas (x, y) en las columnas del array <br>\n",
    "    1.33 4.5 <br>\n",
    "    30.0 10.7 <br>\n",
    "    70.2 0.5 <br>\n",
    "Agregue a este array las coordenadas (37.1, -3.6).  <br>\n",
    "Muestre en pantalla las dimensiones del nuevo array. <br>"
   ]
  },
  {
   "cell_type": "code",
   "execution_count": 22,
   "id": "284693aa-05f9-402a-99c8-d7d4573e8f83",
   "metadata": {
    "tags": []
   },
   "outputs": [
    {
     "name": "stdout",
     "output_type": "stream",
     "text": [
      "Dimensiones del nuevo array: (4, 2)\n"
     ]
    }
   ],
   "source": [
    "x_y_points = [[1.33,4.5],[30.0,10.7],[70.2,0.5]]\n",
    "#adding the new values\n",
    "x_y_points.append([37.1,-3.6])\n",
    "#Convert the list to a numpy to array to get the dimensiones\n",
    "array_points = np.array(x_y_points)\n",
    "dimensions = array_points.shape\n",
    "\n",
    "print(\"Dimensiones del nuevo array:\", dimensions)"
   ]
  },
  {
   "cell_type": "markdown",
   "id": "1ed0d733-8f49-4f07-a60d-3a2330e86e2d",
   "metadata": {},
   "source": [
    "6) Copie el array del ejercicio anterior. Traspóngalo (Agregue ahora dos nuevos pares de coordenadas: (10.8, 3.0) y (35.8, 12.0)."
   ]
  },
  {
   "cell_type": "code",
   "execution_count": 26,
   "id": "621e3ef5-23a0-4279-8e0d-d717ed09e48a",
   "metadata": {
    "tags": []
   },
   "outputs": [
    {
     "name": "stdout",
     "output_type": "stream",
     "text": [
      "Array Final:\n",
      "[[1.33, 30.0, 70.2], [4.5, 10.7, 0.5], [10.8, 3.0], [35.8, 12]]\n"
     ]
    }
   ],
   "source": [
    "x_y_points = [[1.33,4.5],[30.0,10.7],[70.2,0.5]]\n",
    "\n",
    "# Convert the list of lists to a NumPy array\n",
    "array_points = np.array(x_y_points)\n",
    "\n",
    "# Transpose the array\n",
    "transposed_array = np.transpose(array_points)\n",
    "\n",
    "# Convert the transposed array back to a list of lists\n",
    "transposed_list = transposed_array.tolist()\n",
    "\n",
    "#adding the new values\n",
    "transposed_list.append([10.8, 3.0])\n",
    "transposed_list.append([35.8, 12])\n",
    "\n",
    "print(\"Array Final:\")\n",
    "print(transposed_list)"
   ]
  },
  {
   "cell_type": "code",
   "execution_count": null,
   "id": "0e226f8c-61f1-4a17-b231-91ace0a85763",
   "metadata": {},
   "outputs": [],
   "source": [
    "%%bash\n",
    "echo \"Start Script\"\n",
    "if [ -d \".git\" ]\n",
    "then\n",
    "echo \"We can perform the git command\"\n",
    "git add .\n",
    "git commit -m \"part 1\"\n",
    "echo \"Pushing data to remote server!!!\"\n",
    "git push master\n",
    "else\n",
    "echo \"Please add the origin after perform git commands\"\n",
    "fi\n",
    "echo \"Finish Script\""
   ]
  }
 ],
 "metadata": {
  "kernelspec": {
   "display_name": "Python 3 (ipykernel)",
   "language": "python",
   "name": "python3"
  },
  "language_info": {
   "codemirror_mode": {
    "name": "ipython",
    "version": 3
   },
   "file_extension": ".py",
   "mimetype": "text/x-python",
   "name": "python",
   "nbconvert_exporter": "python",
   "pygments_lexer": "ipython3",
   "version": "3.11.5"
  }
 },
 "nbformat": 4,
 "nbformat_minor": 5
}
